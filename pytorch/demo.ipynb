{
  "cells": [
    {
      "cell_type": "code",
      "execution_count": null,
      "metadata": {
        "id": "XE5KwNqA3Ots"
      },
      "outputs": [],
      "source": [
        "%matplotlib inline\n",
        "import matplotlib.pyplot as plt\n",
        "import torch\n",
        "import numpy as np\n",
        "import cv2\n",
        "import PIL\n",
        "\n",
        "from torch.utils.data import DataLoader\n",
        "from torchvision import datasets\n",
        "from torchvision.transforms import ToTensor\n",
        "\n",
        "from pprint import pprint"
      ]
    },
    {
      "cell_type": "code",
      "execution_count": null,
      "metadata": {
        "id": "VCHL_RVqunsJ"
      },
      "outputs": [],
      "source": [
        "def imshow(a):\n",
        "  a = a.clip(0, 255).astype('uint8')\n",
        "  if a.ndim == 3:\n",
        "    if a.shape[2] == 4:\n",
        "      a = cv2.cvtColor(a, cv2.COLOR_BGRA2RGBA)\n",
        "    else:\n",
        "      a = cv2.cvtColor(a, cv2.COLOR_BGR2RGB)\n",
        "  display(PIL.Image.fromarray(a))"
      ]
    },
    {
      "cell_type": "code",
      "execution_count": null,
      "metadata": {
        "colab": {
          "base_uri": "https://localhost:8080/"
        },
        "id": "YJ0OFOFmqjQK",
        "outputId": "aa2f6fbb-4bbf-4de4-f4f0-326e7ecd7cc5"
      },
      "outputs": [
        {
          "name": "stdout",
          "output_type": "stream",
          "text": [
            "NumPy array:\n",
            " [[0. 0. 0. 0. 0.]\n",
            " [0. 0. 0. 0. 0.]\n",
            " [0. 0. 0. 0. 0.]\n",
            " [0. 0. 0. 0. 0.]\n",
            " [0. 0. 0. 0. 0.]] \n",
            "\n",
            "PyTorch array:\n",
            " tensor([[0., 0., 0., 0., 0.],\n",
            "        [0., 0., 0., 0., 0.],\n",
            "        [0., 0., 0., 0., 0.],\n",
            "        [0., 0., 0., 0., 0.],\n",
            "        [0., 0., 0., 0., 0.]]) \n",
            "\n",
            "NumPy array:\n",
            " [[1. 1. 1. 1. 1.]\n",
            " [1. 1. 1. 1. 1.]\n",
            " [1. 1. 1. 1. 1.]\n",
            " [1. 1. 1. 1. 1.]\n",
            " [1. 1. 1. 1. 1.]] \n",
            "\n",
            "PyTorch array:\n",
            " tensor([[1., 1., 1., 1., 1.],\n",
            "        [1., 1., 1., 1., 1.],\n",
            "        [1., 1., 1., 1., 1.],\n",
            "        [1., 1., 1., 1., 1.],\n",
            "        [1., 1., 1., 1., 1.]]) \n",
            "\n",
            "NumPy array:\n",
            " [1 2 3 4 5] \n",
            "\n",
            "PyTorch array:\n",
            " tensor([1, 2, 3, 4, 5]) \n",
            "\n",
            "NumPy array:\n",
            " [[ 1.4369162   0.82643063  2.56417183  0.00720707 -0.26965892]\n",
            " [-0.43549375 -1.09941203  0.62306075  0.21363724  0.70661897]\n",
            " [ 0.470092   -0.77295885  0.39861051  0.46823758  0.82882557]\n",
            " [-1.19068741  0.76903172 -0.67769532 -0.67998152 -0.06187467]\n",
            " [-0.33572925  1.12689356 -0.40166054 -0.80188465  0.17975731]] \n",
            "\n",
            "PyTorch array:\n",
            " tensor([[ 1.4178, -1.4961, -1.6605, -0.5462,  1.3722],\n",
            "        [-1.5013,  0.9101, -0.0185, -0.8212,  1.5471],\n",
            "        [ 0.4649,  0.2722,  0.7480, -0.7974,  0.4537],\n",
            "        [-1.0265,  1.5640, -0.6276,  1.0320, -1.6892],\n",
            "        [-1.6934,  0.8012,  0.1662,  0.2346,  1.4071]]) \n",
            "\n"
          ]
        }
      ],
      "source": [
        "np_arr = np.zeros([5, 5])\n",
        "torch_arr = torch.zeros([5, 5])\n",
        "\n",
        "print('NumPy array:\\n', np_arr, '\\n')\n",
        "print('PyTorch array:\\n', torch_arr, '\\n')\n",
        "\n",
        "np_arr = np.ones([5, 5])\n",
        "torch_arr = torch.ones([5, 5])\n",
        "\n",
        "print('NumPy array:\\n', np_arr, '\\n')\n",
        "print('PyTorch array:\\n', torch_arr, '\\n')\n",
        "\n",
        "np_arr = np.array([1, 2, 3, 4, 5])\n",
        "torch_arr = torch.tensor([1, 2, 3, 4, 5])\n",
        "\n",
        "print('NumPy array:\\n', np_arr, '\\n')\n",
        "print('PyTorch array:\\n', torch_arr, '\\n')\n",
        "\n",
        "np_arr = np.random.normal(0, 1, [5, 5])\n",
        "torch_arr = torch.randn(5, 5)\n",
        "\n",
        "print('NumPy array:\\n', np_arr, '\\n')\n",
        "print('PyTorch array:\\n', torch_arr, '\\n')"
      ]
    },
    {
      "cell_type": "code",
      "execution_count": null,
      "metadata": {
        "colab": {
          "base_uri": "https://localhost:8080/"
        },
        "id": "rYhJNWNUqpQy",
        "outputId": "cff64d6e-c189-492e-d0f6-1820633c921e"
      },
      "outputs": [
        {
          "name": "stdout",
          "output_type": "stream",
          "text": [
            "NumPy array:\n",
            " [[8.94427191 8.94427191 8.94427191 8.94427191 8.94427191]\n",
            " [8.94427191 8.94427191 8.94427191 8.94427191 8.94427191]\n",
            " [8.94427191 8.94427191 8.94427191 8.94427191 8.94427191]\n",
            " [8.94427191 8.94427191 8.94427191 8.94427191 8.94427191]\n",
            " [8.94427191 8.94427191 8.94427191 8.94427191 8.94427191]] \n",
            "\n",
            "PyTorch array:\n",
            " tensor([[8.9443, 8.9443, 8.9443, 8.9443, 8.9443],\n",
            "        [8.9443, 8.9443, 8.9443, 8.9443, 8.9443],\n",
            "        [8.9443, 8.9443, 8.9443, 8.9443, 8.9443],\n",
            "        [8.9443, 8.9443, 8.9443, 8.9443, 8.9443],\n",
            "        [8.9443, 8.9443, 8.9443, 8.9443, 8.9443]]) \n",
            "\n"
          ]
        }
      ],
      "source": [
        "np_a = np.ones([5, 5])\n",
        "torch_a = torch.ones([5, 5])\n",
        "\n",
        "np_a = np_a + np_a\n",
        "np_a = np_a * np_a\n",
        "np_a = np_a ** 2 + np_a ** 3\n",
        "\n",
        "torch_a = torch_a + torch_a\n",
        "torch_a = torch_a * torch_a\n",
        "torch_a = torch_a ** 2 + torch_a ** 3\n",
        "\n",
        "print('NumPy array:\\n', np.sqrt(np_a), '\\n')\n",
        "print('PyTorch array:\\n', torch.sqrt(torch_a), '\\n')"
      ]
    },
    {
      "cell_type": "code",
      "execution_count": null,
      "metadata": {
        "colab": {
          "base_uri": "https://localhost:8080/"
        },
        "id": "vZ6OgEFss40E",
        "outputId": "1a39a578-a3f0-4790-b36b-bd285e489aa8"
      },
      "outputs": [
        {
          "name": "stdout",
          "output_type": "stream",
          "text": [
            "NumPy sum: 2000.0\n",
            "NumPy mean: 80.0\n",
            "NumPy min: 80.0\n",
            "NumPy max: 80.0\n",
            "PyTorch sum: tensor(2000.)\n",
            "PyTorch mean: tensor(80.)\n",
            "PyTorch min: tensor(80.)\n",
            "PyTorch max: tensor(80.)\n"
          ]
        }
      ],
      "source": [
        "print('NumPy sum:', np_a.sum())\n",
        "print('NumPy mean:', np_a.mean())\n",
        "print('NumPy min:', np_a.min())\n",
        "print('NumPy max:', np_a.max())\n",
        "\n",
        "print('PyTorch sum:', torch_a.sum())\n",
        "print('PyTorch mean:', torch_a.mean())\n",
        "print('PyTorch min:', torch_a.min())\n",
        "print('PyTorch max:', torch_a.max())"
      ]
    },
    {
      "cell_type": "code",
      "execution_count": null,
      "metadata": {
        "colab": {
          "base_uri": "https://localhost:8080/"
        },
        "id": "Lb0L9t11tWJ2",
        "outputId": "22cdf21e-06cf-4c44-f3b1-bf8252c106fa"
      },
      "outputs": [
        {
          "name": "stdout",
          "output_type": "stream",
          "text": [
            "TensorFlow sum: [400. 400. 400. 400. 400.]\n",
            "TensorFlow mean: [80. 80. 80. 80. 80.]\n",
            "TensorFlow min: [80. 80. 80. 80. 80.]\n",
            "TensorFlow max: [80. 80. 80. 80. 80.]\n",
            "PyTorch sum: tensor([400., 400., 400., 400., 400.])\n",
            "PyTorch mean: tensor([80., 80., 80., 80., 80.])\n",
            "PyTorch min: tensor([80., 80., 80., 80., 80.])\n",
            "PyTorch max: tensor([80., 80., 80., 80., 80.])\n"
          ]
        }
      ],
      "source": [
        "print('TensorFlow sum:', np_a.sum(0))\n",
        "print('TensorFlow mean:', np_a.mean(1))\n",
        "print('TensorFlow min:', np_a.min(0))\n",
        "print('TensorFlow max:', np_a.max(1))\n",
        "\n",
        "print('PyTorch sum:', torch_a.sum(0))\n",
        "print('PyTorch mean:', torch_a.mean(1))\n",
        "\n",
        "print('PyTorch min:', torch_a.amin(0))\n",
        "print('PyTorch max:', torch_a.amax(1))"
      ]
    },
    {
      "cell_type": "code",
      "execution_count": null,
      "metadata": {
        "colab": {
          "base_uri": "https://localhost:8080/"
        },
        "id": "XUs8x4TAaX1v",
        "outputId": "92a8f7f1-6a74-481d-f3ef-e1761a8aef07"
      },
      "outputs": [
        {
          "name": "stdout",
          "output_type": "stream",
          "text": [
            "[0.5446811  0.23878127 0.89079326 0.8965173  0.08801389]\n",
            "[1.5446811  0.23878127 0.89079326 1.8965173  0.08801389]\n",
            "[0.5446811  0.23878127 0.89079326 0.8965173  0.08801389]\n",
            "[1 2 3 4 5]\n"
          ]
        }
      ],
      "source": [
        "b = torch.rand(5)\n",
        "\n",
        "print(b.numpy())\n",
        "\n",
        "b += torch.tensor([1, 0, 0, 1, 0])\n",
        "\n",
        "print(b.numpy())\n",
        "\n",
        "b -= torch.tensor([1, 0, 0, 1, 0])\n",
        "\n",
        "print(b.numpy())\n",
        "\n",
        "b = torch.tensor([1, 2, 3, 4, 5])\n",
        "\n",
        "print(b.numpy())"
      ]
    },
    {
      "cell_type": "code",
      "execution_count": null,
      "metadata": {
        "colab": {
          "base_uri": "https://localhost:8080/"
        },
        "id": "q5jOTJIQbFLn",
        "outputId": "e50f30fb-cbaf-4d74-9176-f9ffd3ccde55"
      },
      "outputs": [
        {
          "name": "stdout",
          "output_type": "stream",
          "text": [
            "w: tensor([[0.0141, 0.6053, 0.3113, 0.9745, 0.7846],\n",
            "        [0.7402, 0.0458, 0.8740, 0.4533, 0.2354],\n",
            "        [0.3266, 0.1755, 0.3932, 0.5989, 0.9524],\n",
            "        [0.8698, 0.8479, 0.7137, 0.8014, 0.4597],\n",
            "        [0.2889, 0.0602, 0.7155, 0.1038, 0.3658],\n",
            "        [0.6654, 0.9452, 0.0820, 0.4370, 0.7341],\n",
            "        [0.5499, 0.7101, 0.5752, 0.6210, 0.4450],\n",
            "        [0.2362, 0.2509, 0.7280, 0.5634, 0.5829],\n",
            "        [0.3425, 0.3195, 0.5301, 0.7735, 0.4076],\n",
            "        [0.2315, 0.9819, 0.5576, 0.1206, 0.6389]])\n",
            "b: tensor([0.9404, 0.9099, 0.9188, 0.4259, 0.0327])\n"
          ]
        }
      ],
      "source": [
        "w = torch.rand(10, 5, dtype=torch.float32)\n",
        "b = torch.rand(5, dtype=torch.float32)\n",
        "\n",
        "print(f'w: {w}\\nb: {b}')"
      ]
    },
    {
      "cell_type": "code",
      "execution_count": null,
      "metadata": {
        "id": "adC3DrJjxOAm"
      },
      "outputs": [],
      "source": [
        "def neuron(x, f=lambda x: x):\n",
        "  return f(x @ w + b)"
      ]
    },
    {
      "cell_type": "code",
      "execution_count": null,
      "metadata": {
        "colab": {
          "base_uri": "https://localhost:8080/"
        },
        "id": "yiAOEv2Axpu5",
        "outputId": "d5ed2d45-b6b9-4920-9189-e5b7650be34b"
      },
      "outputs": [
        {
          "name": "stdout",
          "output_type": "stream",
          "text": [
            "x.shape = torch.Size([1, 10]): tensor([[-0.4697, -0.5452, -1.5060,  1.1024, -0.7430,  1.3663,  1.0073, -0.7473,\n",
            "         -0.2546,  0.3226]])\n",
            "y.shape = torch.Size([1, 5]): tensor([[ 2.0567,  3.2811,  0.1512,  0.2689, -0.5455]])\n"
          ]
        }
      ],
      "source": [
        "x = torch.randn(1, 10)\n",
        "y = neuron(x)\n",
        "\n",
        "print(f'{x.shape = }: {x}\\n{y.shape = }: {y}')"
      ]
    },
    {
      "cell_type": "code",
      "execution_count": null,
      "metadata": {
        "colab": {
          "base_uri": "https://localhost:8080/"
        },
        "id": "Cgpu5CpWbhWI",
        "outputId": "0e5af890-e655-4321-a439-216f3d9636bd"
      },
      "outputs": [
        {
          "name": "stdout",
          "output_type": "stream",
          "text": [
            "x.shape = torch.Size([5, 10]): tensor([[ 1.3282e-01,  2.1906e+00, -3.2371e-04, -7.0962e-01, -4.5881e-01,\n",
            "         -1.0025e+00, -4.7131e-01,  1.8361e+00, -1.2354e-01, -9.2990e-01],\n",
            "        [-1.9124e+00, -1.1509e+00, -4.1830e-01,  1.7774e+00, -2.6279e-01,\n",
            "         -6.6638e-01,  2.5436e-02,  1.3346e-01,  3.9521e-01, -8.7422e-01],\n",
            "        [ 4.0352e-01,  1.2385e+00, -1.0352e-01,  3.2808e-01,  4.5862e-02,\n",
            "          2.0103e+00,  4.3510e-01,  6.3780e-01, -1.7421e+00, -2.7135e-01],\n",
            "        [ 1.6494e-01, -7.4873e-01,  2.7344e-01, -1.4385e+00,  1.1129e+00,\n",
            "         -1.9937e+00, -1.6821e+00, -5.8454e-01, -6.4255e-01,  9.9101e-02],\n",
            "        [-4.4575e-01,  1.6294e+00, -8.1117e-01,  9.2278e-01,  1.5751e+00,\n",
            "         -2.2338e-01, -7.6166e-01,  1.7877e+00, -7.3469e-01,  1.3990e-01]])\n",
            "y.shape = torch.Size([5, 5]): tensor([[ 1.0639, -1.3128,  2.4392,  1.0277, -0.3617],\n",
            "        [ 0.9300, -0.1930,  0.0126, -0.8128, -2.2138],\n",
            "        [ 3.1960,  3.0199,  2.1577,  1.7140,  1.8676],\n",
            "        [-3.0387, -3.4629, -1.6488, -3.3564, -2.7592],\n",
            "        [ 2.7686,  1.0489,  4.2041,  1.0324,  0.6232]])\n"
          ]
        }
      ],
      "source": [
        "x = torch.randn(5, 10)\n",
        "y = neuron(x)\n",
        "\n",
        "print(f'{x.shape = }: {x}\\n{y.shape = }: {y}')"
      ]
    },
    {
      "cell_type": "code",
      "execution_count": null,
      "metadata": {
        "colab": {
          "base_uri": "https://localhost:8080/",
          "height": 929
        },
        "id": "pPSz33ZRcV4Q",
        "outputId": "43bac53f-e774-49fd-f347-ac851d527a91"
      },
      "outputs": [
        {
          "name": "stderr",
          "output_type": "stream",
          "text": [
            "<ipython-input-12-cb76b6c6f5aa>:1: UserWarning: torch.range is deprecated and will be removed in a future release because its behavior is inconsistent with Python's range builtin. Instead, use torch.arange, which produces values in [start, end).\n",
            "  x = torch.range(-5, 8, 0.1, dtype=torch.float32)\n"
          ]
        },
        {
          "data": {
            "image/png": "[encoded data removed]",
            "text/plain": [
              "<Figure size 1500x1000 with 1 Axes>"
            ]
          },
          "metadata": {},
          "output_type": "display_data"
        }
      ],
      "source": [
        "x = torch.range(-5, 8, 0.1, dtype=torch.float32)\n",
        "\n",
        "plt.figure(figsize=(15, 10))\n",
        "plt.title('Funkcje aktywacji')\n",
        "plt.xlabel('x')\n",
        "plt.ylabel('y')\n",
        "plt.plot(x, torch.nn.functional.relu(x), label='relu')\n",
        "plt.plot(x, torch.nn.functional.relu6(x), label='relu6')\n",
        "plt.plot(x, torch.nn.functional.leaky_relu(x, 0.2), label='leaky relu')\n",
        "plt.plot(x, torch.nn.functional.elu(x), label='elu')\n",
        "plt.plot(x, torch.nn.functional.selu(x), label='selu')\n",
        "plt.grid()\n",
        "plt.legend()\n",
        "plt.show()"
      ]
    },
    {
      "cell_type": "code",
      "execution_count": null,
      "metadata": {
        "colab": {
          "base_uri": "https://localhost:8080/",
          "height": 929
        },
        "id": "hHlj3uxYdbSO",
        "outputId": "4f9e6784-5ea5-4dee-d503-b3094524d2d8"
      },
      "outputs": [
        {
          "name": "stderr",
          "output_type": "stream",
          "text": [
            "<ipython-input-13-69e13d9b6914>:1: UserWarning: torch.range is deprecated and will be removed in a future release because its behavior is inconsistent with Python's range builtin. Instead, use torch.arange, which produces values in [start, end).\n",
            "  x = torch.range(-3, 3, 0.1, dtype=torch.float32)\n"
          ]
        },
        {
          "data": {
            "image/png": "[encoded data removed]",
            "text/plain": [
              "<Figure size 1500x1000 with 1 Axes>"
            ]
          },
          "metadata": {},
          "output_type": "display_data"
        }
      ],
      "source": [
        "x = torch.range(-3, 3, 0.1, dtype=torch.float32)\n",
        "plt.figure(figsize=(15, 10))\n",
        "plt.title('Funkcje aktywacji')\n",
        "plt.xlabel('x')\n",
        "plt.ylabel('y')\n",
        "plt.plot(x, torch.nn.functional.sigmoid(x), label='sigmoid')\n",
        "plt.plot(x, torch.nn.functional.tanh(x), label='tanh')\n",
        "plt.grid()\n",
        "plt.legend()\n",
        "plt.show()"
      ]
    },
    {
      "cell_type": "code",
      "execution_count": null,
      "metadata": {
        "colab": {
          "base_uri": "https://localhost:8080/"
        },
        "id": "StFAJY07dz6z",
        "outputId": "ea14fe4c-5f92-45e8-92e5-0310a762ca8f"
      },
      "outputs": [
        {
          "name": "stdout",
          "output_type": "stream",
          "text": [
            "x.shape = torch.Size([5, 10]): tensor([[-1.1720,  0.1797, -0.7872, -1.3776, -0.3595, -1.1718, -0.0134, -0.2738,\n",
            "          0.0190, -0.2821],\n",
            "        [ 0.1611, -1.0410, -0.4894,  0.9505,  0.6105,  0.2134,  0.3129,  0.4354,\n",
            "         -0.2649,  1.6820],\n",
            "        [ 0.1129,  1.5757,  0.2680,  0.2407, -0.3509,  0.3198,  0.6794,  1.5562,\n",
            "         -0.8234,  1.1775],\n",
            "        [ 0.3219, -0.0651,  0.1606,  1.6140, -0.5012,  1.7168,  0.1092, -0.3846,\n",
            "         -0.9576, -0.4850],\n",
            "        [ 1.3699,  0.3045, -0.1760, -0.5257,  0.5399, -0.5727, -0.0963, -0.5456,\n",
            "         -0.2793,  2.3461]])\n",
            "y.shape = torch.Size([5, 5]): tensor([[0.0000, 0.0000, 0.0000, 0.0000, 0.0000],\n",
            "        [1.7311, 3.8167, 2.2937, 1.1738, 1.6245],\n",
            "        [3.2487, 3.3489, 4.1271, 2.5107, 2.5905],\n",
            "        [2.8798, 3.2900, 0.9641, 1.8499, 1.3661],\n",
            "        [0.7111, 2.7768, 2.2140, 0.8777, 1.5712]])\n"
          ]
        }
      ],
      "source": [
        "x = torch.randn(5, 10)\n",
        "y = neuron(x, torch.nn.functional.relu)\n",
        "\n",
        "print(f'{x.shape = }: {x}\\n{y.shape = }: {y}')"
      ]
    },
    {
      "cell_type": "code",
      "execution_count": null,
      "metadata": {
        "colab": {
          "base_uri": "https://localhost:8080/"
        },
        "id": "UvYwn7wWeAS3",
        "outputId": "37ccacc2-89c9-4c68-b759-3fdbb07b88a6"
      },
      "outputs": [
        {
          "name": "stdout",
          "output_type": "stream",
          "text": [
            "x.shape = torch.Size([5, 10]): tensor([[-0.4782, -0.0705,  1.1690, -0.5748,  0.5280, -1.9968,  0.7665, -0.3572,\n",
            "         -0.7900, -0.8018],\n",
            "        [ 0.8368,  0.7345, -0.4109,  0.2660, -0.5230,  0.6947, -0.5872,  0.5341,\n",
            "          1.6053,  1.1034],\n",
            "        [-2.5429, -0.4168, -0.5446, -0.1823,  0.7414,  0.1842, -0.8442, -1.2763,\n",
            "          0.0183, -0.6023],\n",
            "        [-2.7001, -0.6264,  0.4742,  0.3296, -1.4052,  1.5393,  0.0310, -0.5078,\n",
            "          0.6659, -0.4730],\n",
            "        [-0.9984, -1.8300,  0.2574, -0.1199, -0.2339, -0.2865, -0.2394,  0.2220,\n",
            "         -0.5330,  1.6396]])\n",
            "y.shape = torch.Size([5, 5]): tensor([[-0.4868, -0.9708,  0.2793, -0.7944, -0.9022],\n",
            "        [ 0.9870,  0.9983,  0.9955,  0.9960,  0.9809],\n",
            "        [-0.2937, -0.9750, -0.9443, -0.9991, -0.9989],\n",
            "        [ 0.9077,  0.5531, -0.8304, -0.8406, -0.8685],\n",
            "        [-0.5291,  0.8354, -0.4707, -0.9362, -0.4088]])\n"
          ]
        }
      ],
      "source": [
        "x = torch.randn(5, 10)\n",
        "y = neuron(x, torch.nn.functional.tanh)\n",
        "\n",
        "print(f'{x.shape = }: {x}\\n{y.shape = }: {y}')"
      ]
    },
    {
      "cell_type": "code",
      "execution_count": null,
      "metadata": {
        "id": "HMkv0CeSfYLq"
      },
      "outputs": [],
      "source": [
        "neurons = torch.nn.Sequential(\n",
        "    torch.nn.Linear(10, 5),\n",
        "    torch.nn.ReLU(),\n",
        ")"
      ]
    },
    {
      "cell_type": "code",
      "execution_count": null,
      "metadata": {
        "colab": {
          "base_uri": "https://localhost:8080/"
        },
        "id": "kkAeaiYtfwSL",
        "outputId": "c1aa94b8-17e4-44d4-b95f-3929616a5801"
      },
      "outputs": [
        {
          "name": "stdout",
          "output_type": "stream",
          "text": [
            "x.shape = torch.Size([5, 10]): tensor([[-0.7129, -0.9577, -2.4477,  1.8657, -0.3647, -0.2575, -0.0162, -0.7976,\n",
            "          2.7030, -0.3318],\n",
            "        [ 0.7437, -2.0706,  0.6722,  0.6273, -0.8556,  0.6198,  0.6588,  0.3672,\n",
            "         -0.4358,  1.2848],\n",
            "        [ 0.2399, -0.7582,  1.3189,  0.1304,  0.7910, -1.1869, -0.5445, -0.4200,\n",
            "          0.1123, -2.2161],\n",
            "        [ 0.0882, -0.4847,  0.6386, -1.4319,  0.1118, -0.0079,  0.3824,  1.8506,\n",
            "          1.3597, -1.8831],\n",
            "        [-0.8465, -0.8406, -1.9802, -1.1305, -0.9126, -2.2264,  0.6967,  0.1594,\n",
            "          0.7694,  0.0679]])\n",
            "y.shape = torch.Size([5, 5]): tensor([[1.0021, 1.0290, 0.0000, 0.0000, 0.4921],\n",
            "        [0.5275, 1.3605, 0.0000, 0.4626, 1.2765],\n",
            "        [0.0000, 0.0188, 0.9752, 0.0000, 0.0000],\n",
            "        [0.0000, 0.3476, 0.0000, 0.0000, 0.0000],\n",
            "        [0.0000, 0.1276, 0.0000, 0.0000, 0.0000]], grad_fn=<ReluBackward0>)\n",
            "\n",
            "\n",
            "Zmienne wewnętrzne:\n",
            "torch.Size([5, 10]), tensor([[ 0.0559,  0.0450,  0.0874,  0.2035,  0.0093,  0.2418, -0.0300, -0.2939,\n",
            "          0.2710,  0.2965],\n",
            "        [-0.1295, -0.3130,  0.1295,  0.1854, -0.2534,  0.1756,  0.0610,  0.0537,\n",
            "          0.1553,  0.0636],\n",
            "        [-0.3038, -0.0713,  0.2864, -0.1390,  0.2652,  0.1311, -0.1316, -0.2177,\n",
            "         -0.2614, -0.1711],\n",
            "        [ 0.0024, -0.0778,  0.1957,  0.0717,  0.0877, -0.0215,  0.2003,  0.0748,\n",
            "          0.0865,  0.2870],\n",
            "        [ 0.1929, -0.2660,  0.0323,  0.1330, -0.2519,  0.1558,  0.1638, -0.1737,\n",
            "          0.0045,  0.0724]])\n",
            "torch.Size([5]), tensor([ 0.1156,  0.2058,  0.0674, -0.2788,  0.0297])\n"
          ]
        }
      ],
      "source": [
        "x = torch.randn(5, 10)\n",
        "y = neurons(x)\n",
        "\n",
        "print(f'{x.shape = }: {x}\\n{y.shape = }: {y}')\n",
        "print('\\n\\nZmienne wewnętrzne:')\n",
        "for p in neurons.parameters():\n",
        "  print(f'{p.shape}, {p.data}')"
      ]
    },
    {
      "cell_type": "code",
      "execution_count": null,
      "metadata": {
        "colab": {
          "base_uri": "https://localhost:8080/"
        },
        "id": "BAIESBL1hHHo",
        "outputId": "c356b758-99d2-4803-c283-7c587d8df14b"
      },
      "outputs": [
        {
          "data": {
            "text/plain": [
              "tensor([[[1],\n",
              "         [2],\n",
              "         [3]]])"
            ]
          },
          "execution_count": 18,
          "metadata": {},
          "output_type": "execute_result"
        }
      ],
      "source": [
        "torch.tensor([1, 2, 3]).reshape(1, -1, 1)"
      ]
    },
    {
      "cell_type": "code",
      "execution_count": null,
      "metadata": {
        "colab": {
          "base_uri": "https://localhost:8080/"
        },
        "id": "l2S_V1tKgimM",
        "outputId": "bd9dc36a-19fe-409e-dca9-cce715cdd58a"
      },
      "outputs": [
        {
          "name": "stdout",
          "output_type": "stream",
          "text": [
            "a: tensor([1, 2, 3])\n",
            "f: tensor([1, 0, 1])\n",
            "y: tensor([2, 4, 2])\n"
          ]
        }
      ],
      "source": [
        "a = torch.tensor([1, 2, 3])\n",
        "f = torch.tensor([1, 0, 1])\n",
        "\n",
        "y = torch.nn.functional.conv1d(a.reshape(1, 1, -1), f.reshape(1, 1, -1), stride=1, padding='same')\n",
        "\n",
        "print(f'a: {a}')\n",
        "print(f'f: {f}')\n",
        "print(f'y: {y[0, 0]}')"
      ]
    },
    {
      "cell_type": "code",
      "execution_count": null,
      "metadata": {
        "id": "ju-hP5tu5YoZ"
      },
      "outputs": [],
      "source": [
        "N = 10\n",
        "kernel_size = (5, 5)\n",
        "\n",
        "conv1 = torch.nn.Conv2d(3, N, kernel_size, stride=1, padding='same')"
      ]
    },
    {
      "cell_type": "code",
      "execution_count": null,
      "metadata": {
        "colab": {
          "base_uri": "https://localhost:8080/"
        },
        "id": "RLfYzCyziv6N",
        "outputId": "04ffa5dc-bdc3-42c5-e05a-72431e238199"
      },
      "outputs": [
        {
          "name": "stdout",
          "output_type": "stream",
          "text": [
            "Rozmiar obrazów wejściowych: torch.Size([1, 3, 128, 128])\n",
            "Rozmiar przefiltrowanych obrazów: torch.Size([1, 10, 128, 128])\n"
          ]
        }
      ],
      "source": [
        "images = torch.ones(size=(1, 3, 128, 128), dtype=torch.float32)\n",
        "images_filtered = conv1(images)\n",
        "\n",
        "print(f'Rozmiar obrazów wejściowych: {images.shape}')\n",
        "print(f'Rozmiar przefiltrowanych obrazów: {images_filtered.shape}')"
      ]
    },
    {
      "cell_type": "code",
      "execution_count": null,
      "metadata": {
        "colab": {
          "base_uri": "https://localhost:8080/"
        },
        "id": "HnA6ivV9jmjY",
        "outputId": "c1cbb664-bd6c-4941-bd73-54549c641714"
      },
      "outputs": [
        {
          "name": "stdout",
          "output_type": "stream",
          "text": [
            "Rozmiar obrazów po max poolingu: torch.Size([1, 10, 64, 64])\n",
            "Rozmiar obrazów po average poolingu: torch.Size([1, 10, 64, 64])\n"
          ]
        }
      ],
      "source": [
        "f_max = torch.nn.MaxPool2d((2, 2), stride=2)\n",
        "f_ave = torch.nn.AvgPool2d((2, 2), stride=2)\n",
        "\n",
        "images_max = f_max(images_filtered)\n",
        "images_ave = f_ave(images_filtered)\n",
        "\n",
        "print(f'Rozmiar obrazów po max poolingu: {images_max.shape}')\n",
        "print(f'Rozmiar obrazów po average poolingu: {images_ave.shape}')"
      ]
    },
    {
      "cell_type": "code",
      "execution_count": null,
      "metadata": {
        "id": "U2LQxwyOkj-b"
      },
      "outputs": [],
      "source": [
        "model = torch.nn.Sequential(\n",
        "  torch.nn.Conv2d(3, 8, (3, 3), 2),#8x63x63\n",
        "  torch.nn.ReLU(),\n",
        "  torch.nn.Conv2d(8, 16, (3, 3), 2),#16x31x31\n",
        "  torch.nn.ReLU(),\n",
        "  torch.nn.Conv2d(16, 32, (3, 3), 2),#32x15x15\n",
        "  torch.nn.ReLU(),\n",
        "  torch.nn.Flatten(),#32*15*15=7200\n",
        "  torch.nn.Linear(7200, 10)#10\n",
        ")"
      ]
    },
    {
      "cell_type": "code",
      "execution_count": null,
      "metadata": {
        "colab": {
          "base_uri": "https://localhost:8080/"
        },
        "id": "rIipHd6fmAP9",
        "outputId": "f1f40345-0b91-45c2-f2bc-1b9ceeabacfb"
      },
      "outputs": [
        {
          "name": "stdout",
          "output_type": "stream",
          "text": [
            "Rozmiar danych wejściowych: torch.Size([1, 3, 128, 128])\n",
            "Rozmiar danych wyjściowych: torch.Size([1, 10])\n"
          ]
        }
      ],
      "source": [
        "images = torch.ones(size=(1, 3, 128, 128), dtype=torch.float32)\n",
        "y = model(images)\n",
        "\n",
        "print(f'Rozmiar danych wejściowych: {images.shape}')\n",
        "print(f'Rozmiar danych wyjściowych: {y.shape}')"
      ]
    },
    {
      "cell_type": "code",
      "execution_count": null,
      "metadata": {
        "id": "Ydj_v68ammUQ"
      },
      "outputs": [],
      "source": [
        "def mnist(batch_size=16):\n",
        "    training_data = datasets.MNIST(\n",
        "        root=\"data\",\n",
        "        train=True,\n",
        "        download=True,\n",
        "        transform=ToTensor()\n",
        "    )\n",
        "\n",
        "    test_data = datasets.MNIST(\n",
        "        root=\"data\",\n",
        "        train=False,\n",
        "        download=True,\n",
        "        transform=ToTensor()\n",
        "    )\n",
        "    train_dataloader = DataLoader(training_data, batch_size=batch_size, shuffle=True)\n",
        "    test_dataloader = DataLoader(test_data, batch_size=batch_size, shuffle=True)\n",
        "\n",
        "    return train_dataloader, test_dataloader"
      ]
    },
    {
      "cell_type": "code",
      "execution_count": null,
      "metadata": {
        "colab": {
          "base_uri": "https://localhost:8080/"
        },
        "id": "9KA1XlYynVbX",
        "outputId": "7f37d35d-76fe-474d-9cd6-555115d1a0f9"
      },
      "outputs": [
        {
          "name": "stdout",
          "output_type": "stream",
          "text": [
            "torch.Size([128, 1, 28, 28]) torch.Size([128])\n"
          ]
        }
      ],
      "source": [
        "train_ds, val_ds = mnist(128)\n",
        "\n",
        "first_train_batch = next(iter(train_ds))\n",
        "images, labels = first_train_batch\n",
        "\n",
        "print(images.shape, labels.shape)"
      ]
    },
    {
      "cell_type": "code",
      "execution_count": null,
      "metadata": {
        "colab": {
          "base_uri": "https://localhost:8080/",
          "height": 129
        },
        "id": "CnEGDlfUnuI-",
        "outputId": "796f16db-4dbe-44e8-e388-e2cde3fe411b"
      },
      "outputs": [
        {
          "data": {
            "image/png": "[encoded data removed]",
            "text/plain": [
              "<PIL.Image.Image image mode=L size=28x28 at 0x7F7C3E8F80A0>"
            ]
          },
          "metadata": {},
          "output_type": "display_data"
        },
        {
          "data": {
            "image/png": "[encoded data removed]",
            "text/plain": [
              "<PIL.Image.Image image mode=L size=28x28 at 0x7F7C3E8F9060>"
            ]
          },
          "metadata": {},
          "output_type": "display_data"
        },
        {
          "data": {
            "image/png": "[encoded data removed]",
            "text/plain": [
              "<PIL.Image.Image image mode=L size=28x28 at 0x7F7C3E8F80A0>"
            ]
          },
          "metadata": {},
          "output_type": "display_data"
        },
        {
          "data": {
            "image/png": "[encoded data removed]",
            "text/plain": [
              "<PIL.Image.Image image mode=L size=28x28 at 0x7F7C3E8F9060>"
            ]
          },
          "metadata": {},
          "output_type": "display_data"
        }
      ],
      "source": [
        "imshow(images.numpy()[0, 0] * 255.)\n",
        "imshow(images.numpy()[1, 0] * 255.)\n",
        "imshow(images.numpy()[2, 0] * 255.)\n",
        "imshow(images.numpy()[3, 0] * 255.)"
      ]
    },
    {
      "cell_type": "code",
      "execution_count": null,
      "metadata": {
        "id": "lvaGGoPeot6w"
      },
      "outputs": [],
      "source": [
        "model = torch.nn.Sequential(\n",
        "  torch.nn.Conv2d(1, 8, (3, 3), 2),\n",
        "  torch.nn.ReLU(),\n",
        "  torch.nn.Conv2d(8, 16, (3, 3), 2),\n",
        "  torch.nn.ReLU(),\n",
        "  torch.nn.Conv2d(16, 32, (3, 3), 2),\n",
        "  torch.nn.ReLU(),\n",
        "  torch.nn.Flatten(),\n",
        "  torch.nn.Linear(128, 10)\n",
        ")"
      ]
    },
    {
      "cell_type": "code",
      "execution_count": null,
      "metadata": {
        "colab": {
          "base_uri": "https://localhost:8080/"
        },
        "id": "NWDx8VmtCZKq",
        "outputId": "401981dc-d807-4412-c537-37b65cb03092"
      },
      "outputs": [
        {
          "name": "stdout",
          "output_type": "stream",
          "text": [
            "Rozmiar danych wejściowych: torch.Size([128, 1, 28, 28])\n",
            "Rozmiar danych wyjściowych: torch.Size([128, 10])\n"
          ]
        }
      ],
      "source": [
        "y = model(images)\n",
        "\n",
        "print(f'Rozmiar danych wejściowych: {images.shape}')\n",
        "print(f'Rozmiar danych wyjściowych: {y.shape}')"
      ]
    },
    {
      "cell_type": "code",
      "execution_count": null,
      "metadata": {
        "colab": {
          "background_save": true,
          "base_uri": "https://localhost:8080/"
        },
        "id": "Npo3CAmIo5pu",
        "outputId": "b2e53d17-7bcb-47c8-eac2-cec445667596"
      },
      "outputs": [
        {
          "name": "stdout",
          "output_type": "stream",
          "text": [
            "Epoch: 1/3, Loss: 0.04830, Accuracy: 0.98\n",
            "Validation loss: 0.09107, Validation accuracy: 0.97\n",
            "Epoch: 2/3, Loss: 0.13675, Accuracy: 0.96\n",
            "Validation loss: 0.07982, Validation accuracy: 0.98\n",
            "Epoch: 3/3, Loss: 0.09672, Accuracy: 0.97\n",
            "Validation loss: 0.07733, Validation accuracy: 0.98\n"
          ]
        }
      ],
      "source": [
        "optimizer = torch.optim.Adam(model.parameters())\n",
        "loss_fn = torch.nn.CrossEntropyLoss()\n",
        "epochs = 3\n",
        "\n",
        "for epoch in range(epochs):\n",
        "  model.train() # tells your model that you are training the model\n",
        "  for train_batch in train_ds:\n",
        "    images, labels = train_batch\n",
        "    optimizer.zero_grad()\n",
        "    outputs = model(images)\n",
        "    loss = loss_fn(outputs, labels)\n",
        "    accuracy = (outputs.argmax(1) == labels).sum() / labels.shape[0]\n",
        "    loss.backward()\n",
        "    optimizer.step()\n",
        "  print(f'Epoch: {epoch + 1}/{epochs}, Loss: {loss.item():.5f}, Accuracy: {accuracy:.2f}')\n",
        "\n",
        "  model.eval()\n",
        "  val_loss, val_acc = [], []\n",
        "  with torch.no_grad():\n",
        "    for val_batch in val_ds:\n",
        "      images, labels = val_batch\n",
        "      outputs = model(images)\n",
        "      val_loss.append(loss_fn(outputs, labels).item())\n",
        "      val_acc.append((outputs.argmax(1) == labels).sum() / labels.shape[0])\n",
        "  val_loss = np.mean(val_loss)\n",
        "  val_acc = np.mean(val_acc)\n",
        "  print(f'Validation loss: {val_loss:.5f}, Validation accuracy: {val_acc:.2f}')"
      ]
    },
    {
      "cell_type": "code",
      "execution_count": null,
      "metadata": {
        "colab": {
          "base_uri": "https://localhost:8080/",
          "height": 166
        },
        "id": "PaOXE9QF1PI9",
        "outputId": "6cfe0051-7cc4-48a8-a1ca-f31933ff90fc"
      },
      "outputs": [
        {
          "name": "stdout",
          "output_type": "stream",
          "text": [
            "tensor([4, 4, 4, 0])\n",
            "tensor([4, 4, 4, 0])\n"
          ]
        },
        {
          "data": {
            "image/png": "[encoded data removed]",
            "text/plain": [
              "<PIL.Image.Image image mode=L size=28x28 at 0x7F7C3E8F8E80>"
            ]
          },
          "metadata": {},
          "output_type": "display_data"
        },
        {
          "data": {
            "image/png": "[encoded data removed]",
            "text/plain": [
              "<PIL.Image.Image image mode=L size=28x28 at 0x7F7C3E8F9060>"
            ]
          },
          "metadata": {},
          "output_type": "display_data"
        },
        {
          "data": {
            "image/png": "[encoded data removed]",
            "text/plain": [
              "<PIL.Image.Image image mode=L size=28x28 at 0x7F7C3E8F8E80>"
            ]
          },
          "metadata": {},
          "output_type": "display_data"
        },
        {
          "data": {
            "image/png": "[encoded data removed]",
            "text/plain": [
              "<PIL.Image.Image image mode=L size=28x28 at 0x7F7C3E8F9060>"
            ]
          },
          "metadata": {},
          "output_type": "display_data"
        }
      ],
      "source": [
        "images, labels = next(iter(val_ds))\n",
        "\n",
        "predictions = model(images)\n",
        "\n",
        "print(labels[:4])\n",
        "print(torch.argmax(predictions[:4], -1))\n",
        "\n",
        "imshow(images.numpy()[0, 0] * 255.)\n",
        "imshow(images.numpy()[1, 0] * 255.)\n",
        "imshow(images.numpy()[2, 0] * 255.)\n",
        "imshow(images.numpy()[3, 0] * 255.)"
      ]
    },
    {
      "cell_type": "code",
      "execution_count": null,
      "metadata": {
        "id": "3QpjF-vg4tFa"
      },
      "outputs": [],
      "source": []
    }
  ],
  "metadata": {
    "colab": {
      "provenance": [],
      "toc_visible": true
    },
    "kernelspec": {
      "display_name": "Python 3",
      "name": "python3"
    }
  },
  "nbformat": 4,
  "nbformat_minor": 0
}