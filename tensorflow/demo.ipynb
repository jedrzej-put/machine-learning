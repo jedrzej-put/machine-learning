{
  "nbformat": 4,
  "nbformat_minor": 0,
  "metadata": {
    "colab": {
      "provenance": [],
      "collapsed_sections": [
        "pmmZh-IZ3o43"
      ],
      "toc_visible": true
    },
    "kernelspec": {
      "display_name": "Python 3",
      "name": "python3"
    }
  },
  "cells": [
    {
      "cell_type": "code",
      "metadata": {
        "id": "XE5KwNqA3Ots"
      },
      "source": [
        "%matplotlib inline\n",
        "import matplotlib.pyplot as plt\n",
        "import tensorflow as tf\n",
        "import numpy as np\n",
        "import cv2\n",
        "import PIL\n",
        "\n",
        "from pprint import pprint"
      ],
      "execution_count": null,
      "outputs": []
    },
    {
      "cell_type": "code",
      "metadata": {
        "id": "VCHL_RVqunsJ"
      },
      "source": [
        "def imshow(a):\n",
        "  a = a.clip(0, 255).astype('uint8')\n",
        "  if a.ndim == 3:\n",
        "    if a.shape[2] == 4:\n",
        "      a = cv2.cvtColor(a, cv2.COLOR_BGRA2RGBA)\n",
        "    else:\n",
        "      a = cv2.cvtColor(a, cv2.COLOR_BGR2RGB)\n",
        "  display(PIL.Image.fromarray(a))"
      ],
      "execution_count": null,
      "outputs": []
    },
    {
      "cell_type": "code",
      "metadata": {
        "colab": {
          "base_uri": "https://localhost:8080/"
        },
        "id": "YJ0OFOFmqjQK",
        "outputId": "8067300f-fb06-4331-f558-f36aaf3b69df"
      },
      "source": [
        "np_arr = np.zeros([5, 5])\n",
        "tf_arr = tf.zeros([5, 5])\n",
        "\n",
        "np_arr = np.ones([5, 5])\n",
        "tf_arr = tf.ones([5, 5])\n",
        "\n",
        "np_arr = np.array([1, 2, 3, 4, 5])\n",
        "tf_arr = tf.constant([1, 2, 3, 4, 5])\n",
        "\n",
        "np_arr = np.random.normal(0, 1, [5, 5])\n",
        "tf_arr = tf.random.normal([5, 5], 0, 1)\n",
        "\n",
        "print('NumPy array:\\n', np_arr, '\\n')\n",
        "print('Tensorflow array:\\n', tf_arr, '\\n')"
      ],
      "execution_count": null,
      "outputs": [
        {
          "output_type": "stream",
          "name": "stdout",
          "text": [
            "NumPy array:\n",
            " [[ 1.18387466 -0.99780969 -0.74648455  0.39518984  0.18266479]\n",
            " [-1.2790823  -0.60004463  1.79854418  0.53741036  0.03034068]\n",
            " [-0.69187608  0.39871088  0.65772583 -0.93194928  1.21212502]\n",
            " [-0.37159291 -2.23255992  0.74274924  0.69769097 -0.45229688]\n",
            " [ 2.06418165  0.21814768 -1.58812405 -1.20159124 -1.14537427]] \n",
            "\n",
            "Tensorflow array:\n",
            " tf.Tensor(\n",
            "[[-1.2836077  -0.7706185   0.7851383  -0.26886484 -0.52091205]\n",
            " [ 0.9819648  -1.6166842  -0.16803654 -0.764134    0.9204842 ]\n",
            " [-1.0435319   0.63967395  1.9952993  -0.84489864 -0.14196971]\n",
            " [-1.5697888   0.12250433 -1.9426736   0.19900618 -0.7920256 ]\n",
            " [ 0.21053316 -1.6574267   0.47002882  1.2149632  -0.599401  ]], shape=(5, 5), dtype=float32) \n",
            "\n"
          ]
        }
      ]
    },
    {
      "cell_type": "code",
      "metadata": {
        "colab": {
          "base_uri": "https://localhost:8080/"
        },
        "id": "rYhJNWNUqpQy",
        "outputId": "70c4ee74-f78f-4a84-e54d-f9316e36e1a9"
      },
      "source": [
        "np_a = np.ones([5, 5])\n",
        "tf_a = tf.ones([5, 5])\n",
        "\n",
        "np_a = np_a + np_a\n",
        "np_a = np_a * np_a\n",
        "np_a = np_a ** 2 + np_a ** 3\n",
        "\n",
        "tf_a = tf_a + tf_a\n",
        "tf_a = tf_a * tf_a\n",
        "tf_a = tf_a ** 2 + tf_a ** 3\n",
        "\n",
        "print('NumPy array:\\n', np.sqrt(np_a), '\\n')\n",
        "print('Tensorflow array:\\n', tf.sqrt(tf_a), '\\n')"
      ],
      "execution_count": null,
      "outputs": [
        {
          "output_type": "stream",
          "name": "stdout",
          "text": [
            "NumPy array:\n",
            " [[8.94427191 8.94427191 8.94427191 8.94427191 8.94427191]\n",
            " [8.94427191 8.94427191 8.94427191 8.94427191 8.94427191]\n",
            " [8.94427191 8.94427191 8.94427191 8.94427191 8.94427191]\n",
            " [8.94427191 8.94427191 8.94427191 8.94427191 8.94427191]\n",
            " [8.94427191 8.94427191 8.94427191 8.94427191 8.94427191]] \n",
            "\n",
            "Tensorflow array:\n",
            " tf.Tensor(\n",
            "[[8.944272 8.944272 8.944272 8.944272 8.944272]\n",
            " [8.944272 8.944272 8.944272 8.944272 8.944272]\n",
            " [8.944272 8.944272 8.944272 8.944272 8.944272]\n",
            " [8.944272 8.944272 8.944272 8.944272 8.944272]\n",
            " [8.944272 8.944272 8.944272 8.944272 8.944272]], shape=(5, 5), dtype=float32) \n",
            "\n"
          ]
        }
      ]
    },
    {
      "cell_type": "code",
      "metadata": {
        "colab": {
          "base_uri": "https://localhost:8080/"
        },
        "id": "vZ6OgEFss40E",
        "outputId": "92a15c49-20f4-403c-c73a-6099e280a4fc"
      },
      "source": [
        "print('TensorFlow sum:', tf.reduce_sum(tf_a))\n",
        "print('TensorFlow mean:', tf.reduce_mean(tf_a))\n",
        "print('TensorFlow min:', tf.reduce_min(tf_a))\n",
        "print('TensorFlow max:', tf.reduce_max(tf_a))\n",
        "\n",
        "print('TensorFlow sum:', np_a.sum())\n",
        "print('TensorFlow mean:', np_a.mean())\n",
        "print('TensorFlow min:', np_a.min())\n",
        "print('TensorFlow max:', np_a.max())"
      ],
      "execution_count": null,
      "outputs": [
        {
          "output_type": "stream",
          "name": "stdout",
          "text": [
            "TensorFlow sum: tf.Tensor(2000.0, shape=(), dtype=float32)\n",
            "TensorFlow mean: tf.Tensor(80.0, shape=(), dtype=float32)\n",
            "TensorFlow min: tf.Tensor(80.0, shape=(), dtype=float32)\n",
            "TensorFlow max: tf.Tensor(80.0, shape=(), dtype=float32)\n",
            "TensorFlow sum: 2000.0\n",
            "TensorFlow mean: 80.0\n",
            "TensorFlow min: 80.0\n",
            "TensorFlow max: 80.0\n"
          ]
        }
      ]
    },
    {
      "cell_type": "code",
      "metadata": {
        "colab": {
          "base_uri": "https://localhost:8080/"
        },
        "id": "Lb0L9t11tWJ2",
        "outputId": "e6313fcb-7102-4b60-f1c0-472c271b247c"
      },
      "source": [
        "print('TensorFlow sum:', tf.reduce_sum(tf_a, 0))\n",
        "print('TensorFlow mean:', tf.reduce_mean(tf_a, 1))\n",
        "print('TensorFlow min:', tf.reduce_min(tf_a, 0))\n",
        "print('TensorFlow max:', tf.reduce_max(tf_a, 1))\n",
        "\n",
        "print('TensorFlow sum:', np_a.sum(0))\n",
        "print('TensorFlow mean:', np_a.mean(1))\n",
        "print('TensorFlow min:', np_a.min(0))\n",
        "print('TensorFlow max:', np_a.max(1))"
      ],
      "execution_count": null,
      "outputs": [
        {
          "output_type": "stream",
          "name": "stdout",
          "text": [
            "TensorFlow sum: tf.Tensor([400. 400. 400. 400. 400.], shape=(5,), dtype=float32)\n",
            "TensorFlow mean: tf.Tensor([80. 80. 80. 80. 80.], shape=(5,), dtype=float32)\n",
            "TensorFlow min: tf.Tensor([80. 80. 80. 80. 80.], shape=(5,), dtype=float32)\n",
            "TensorFlow max: tf.Tensor([80. 80. 80. 80. 80.], shape=(5,), dtype=float32)\n",
            "TensorFlow sum: [400. 400. 400. 400. 400.]\n",
            "TensorFlow mean: [80. 80. 80. 80. 80.]\n",
            "TensorFlow min: [80. 80. 80. 80. 80.]\n",
            "TensorFlow max: [80. 80. 80. 80. 80.]\n"
          ]
        }
      ]
    },
    {
      "cell_type": "code",
      "metadata": {
        "colab": {
          "base_uri": "https://localhost:8080/"
        },
        "id": "oFu7WdxYu-56",
        "outputId": "298de736-adb5-4cea-dcb8-94f2a42652a0"
      },
      "source": [
        "b = tf.Variable(tf.random.uniform([5]))\n",
        "\n",
        "print(b.numpy())\n",
        "\n",
        "b.assign_add([1, 0, 0, 1, 0])\n",
        "\n",
        "print(b.numpy())\n",
        "\n",
        "b.assign_sub([1, 0, 0, 1, 0])\n",
        "\n",
        "print(b.numpy())\n",
        "\n",
        "b.assign([1, 2, 3, 4, 5])\n",
        "\n",
        "print(b.numpy())"
      ],
      "execution_count": null,
      "outputs": [
        {
          "output_type": "stream",
          "name": "stdout",
          "text": [
            "[0.6403197  0.5400411  0.5784689  0.9013537  0.22016549]\n",
            "[1.6403197  0.5400411  0.5784689  1.9013537  0.22016549]\n",
            "[0.6403197  0.5400411  0.5784689  0.9013537  0.22016549]\n",
            "[1. 2. 3. 4. 5.]\n"
          ]
        }
      ]
    },
    {
      "cell_type": "code",
      "metadata": {
        "colab": {
          "base_uri": "https://localhost:8080/"
        },
        "id": "aOXubibDw7mr",
        "outputId": "35475990-b4e2-4de7-fd2d-846310cd458e"
      },
      "source": [
        "w = tf.Variable(tf.random.uniform([10, 5], dtype=tf.float32))\n",
        "b = tf.Variable(tf.random.uniform([5], dtype=tf.float32))\n",
        "\n",
        "print(f'w: {w}\\nb: {b}')"
      ],
      "execution_count": null,
      "outputs": [
        {
          "output_type": "stream",
          "name": "stdout",
          "text": [
            "w: <tf.Variable 'Variable:0' shape=(10, 5) dtype=float32, numpy=\n",
            "array([[0.95663214, 0.5972078 , 0.8266705 , 0.98339736, 0.9174237 ],\n",
            "       [0.00596428, 0.3693297 , 0.39601517, 0.4389894 , 0.5438539 ],\n",
            "       [0.6169671 , 0.21562707, 0.98828244, 0.6867014 , 0.01298618],\n",
            "       [0.12424171, 0.5006945 , 0.24678242, 0.6481135 , 0.75316346],\n",
            "       [0.8500277 , 0.86076844, 0.7419088 , 0.25102484, 0.9177102 ],\n",
            "       [0.70374906, 0.08108711, 0.5122329 , 0.2407136 , 0.52584696],\n",
            "       [0.72834885, 0.35737574, 0.6336559 , 0.7183013 , 0.61499107],\n",
            "       [0.81159437, 0.7552078 , 0.98388684, 0.65002596, 0.5416347 ],\n",
            "       [0.4337858 , 0.30138278, 0.66754186, 0.8965628 , 0.06036663],\n",
            "       [0.03733099, 0.80787086, 0.44046342, 0.4369489 , 0.50720453]],\n",
            "      dtype=float32)>\n",
            "b: <tf.Variable 'Variable:0' shape=(5,) dtype=float32, numpy=\n",
            "array([0.6066681 , 0.7472373 , 0.97156835, 0.97862816, 0.8496491 ],\n",
            "      dtype=float32)>\n"
          ]
        }
      ]
    },
    {
      "cell_type": "code",
      "metadata": {
        "id": "adC3DrJjxOAm"
      },
      "source": [
        "def neuron(x, f=tf.identity):\n",
        "  return f(x @ w + b)"
      ],
      "execution_count": null,
      "outputs": []
    },
    {
      "cell_type": "code",
      "metadata": {
        "colab": {
          "base_uri": "https://localhost:8080/"
        },
        "id": "yiAOEv2Axpu5",
        "outputId": "a7816ffd-7138-470e-df84-8d7ec14712bc"
      },
      "source": [
        "x = tf.random.normal([1, 10])\n",
        "y = neuron(x)\n",
        "\n",
        "print(f'x{x.shape}: {x}\\ny{y.shape}: {y}')"
      ],
      "execution_count": null,
      "outputs": [
        {
          "output_type": "stream",
          "name": "stdout",
          "text": [
            "x(1, 10): [[-0.4147668   1.4807119   0.60300815 -0.0895378  -0.28407452 -0.87690437\n",
            "  -1.2888082  -1.0967048   0.03991414 -0.06992814]]\n",
            "y(1, 5): [[-2.0930376  -0.5173203  -0.77086425 -0.33898103 -0.9266757 ]]\n"
          ]
        }
      ]
    },
    {
      "cell_type": "code",
      "metadata": {
        "colab": {
          "base_uri": "https://localhost:8080/"
        },
        "id": "g9NZGPPby7_h",
        "outputId": "c47aa575-f562-4f66-8528-c58af86a44b9"
      },
      "source": [
        "x = tf.random.normal([5, 10])\n",
        "y = neuron(x)\n",
        "\n",
        "print(f'x{x.shape}: {x}\\ny{y.shape}: {y}')"
      ],
      "execution_count": null,
      "outputs": [
        {
          "output_type": "stream",
          "name": "stdout",
          "text": [
            "x(5, 10): [[ 0.7554007  -1.9136108  -1.4421813   0.6167981  -0.44749823  1.0129054\n",
            "   0.66927886 -0.4071121   1.1804372   0.40894303]\n",
            " [-0.1002354   0.42067203  1.0478023   1.1573167  -0.41730708  0.31721961\n",
            "   0.05323434 -0.24561076  0.2917429  -0.37628424]\n",
            " [-0.7326984   0.07344018 -0.51149404  1.0943232   0.04477819  0.85045826\n",
            "   0.20378374 -0.17773359  2.237935    0.03939763]\n",
            " [-1.6518056   0.7695822  -0.9661548   2.4181354   0.26605463  1.3219482\n",
            "   0.26896292 -0.08393369 -0.57034576  0.8658883 ]\n",
            " [ 0.12962653 -0.9213121  -2.7236352   1.6199567  -0.98108464 -0.44531062\n",
            "  -1.1371968  -0.89486253  0.37240592  0.03310289]]\n",
            "y(5, 5): [[ 1.521576    0.80427694  0.743646    1.8754601   1.5394992 ]\n",
            " [ 1.1239994   0.93213165  2.050406    2.4816658   1.3820384 ]\n",
            " [ 1.339574    1.5268271   2.0938926   2.9188042   1.7073989 ]\n",
            " [-0.19539571  1.9439851   0.51579976  0.98648405  3.0254927 ]\n",
            " [-3.2930465  -1.1156324  -3.8719065  -1.5224051  -0.6270653 ]]\n"
          ]
        }
      ]
    },
    {
      "cell_type": "code",
      "metadata": {
        "colab": {
          "base_uri": "https://localhost:8080/",
          "height": 711
        },
        "id": "DiTcMBpg0kBX",
        "outputId": "5c575bac-b037-4bbb-95ae-c2eeace08f75"
      },
      "source": [
        "x = tf.range(-5, 8, 0.1, tf.float32)\n",
        "\n",
        "plt.figure(figsize=(15, 10))\n",
        "plt.title('Funkcje aktywacji')\n",
        "plt.xlabel('x')\n",
        "plt.ylabel('y')\n",
        "plt.plot(x, tf.nn.relu(x), label='relu')\n",
        "plt.plot(x, tf.nn.relu6(x), label='relu6')\n",
        "plt.plot(x, tf.nn.leaky_relu(x), label='leaky relu')\n",
        "plt.plot(x, tf.nn.elu(x), label='elu')\n",
        "plt.plot(x, tf.nn.selu(x), label='selu')\n",
        "plt.grid()\n",
        "plt.legend()\n",
        "plt.show()"
      ],
      "execution_count": null,
      "outputs": [
        {
          "output_type": "display_data",
          "data": {
            "text/plain": [
              "<Figure size 1500x1000 with 1 Axes>"
            ],
            "image/png": "[encoded data removed]"
          },
          "metadata": {}
        }
      ]
    },
    {
      "cell_type": "code",
      "metadata": {
        "colab": {
          "base_uri": "https://localhost:8080/",
          "height": 698
        },
        "id": "PyZfi7D32Ljv",
        "outputId": "308e55d0-8d7d-48ec-f0d8-c6fd703e70e0"
      },
      "source": [
        "x = tf.range(-3, 3, 0.1, tf.float32)\n",
        "plt.figure(figsize=(15, 10))\n",
        "plt.title('Funkcje aktywacji')\n",
        "plt.xlabel('x')\n",
        "plt.ylabel('y')\n",
        "plt.plot(x, tf.nn.sigmoid(x), label='sigmoid')\n",
        "plt.plot(x, tf.nn.tanh(x), label='tanh')\n",
        "plt.grid()\n",
        "plt.legend()\n",
        "plt.show()"
      ],
      "execution_count": null,
      "outputs": [
        {
          "output_type": "display_data",
          "data": {
            "text/plain": [
              "<Figure size 1500x1000 with 1 Axes>"
            ],
            "image/png": "[encoded data removed]"
          },
          "metadata": {}
        }
      ]
    },
    {
      "cell_type": "code",
      "metadata": {
        "colab": {
          "base_uri": "https://localhost:8080/"
        },
        "id": "EsKi-Xa90ab9",
        "outputId": "02636eae-94f9-4866-fe3d-aa3a8f9f1562"
      },
      "source": [
        "x = tf.random.normal([5, 10])\n",
        "y = neuron(x, tf.nn.relu)\n",
        "\n",
        "print(f'x{x.shape}: {x}\\ny{y.shape}: {y}')"
      ],
      "execution_count": null,
      "outputs": [
        {
          "output_type": "stream",
          "name": "stdout",
          "text": [
            "x(5, 10): [[ 0.6648019   1.9707224  -1.8531044  -1.0033318   0.09707966 -0.2907449\n",
            "   0.6674609   0.79891044 -0.01549319 -1.5177711 ]\n",
            " [ 1.8526059  -0.68586725 -1.3537238   1.7456653  -0.96981394  0.98854756\n",
            "  -0.4517609   0.4092617  -1.3548567   0.06935281]\n",
            " [ 0.31958514 -0.83484876  0.16849588 -0.801445    0.2305482   0.4025419\n",
            "   0.06506992  0.8448189  -0.2450068   1.2597215 ]\n",
            " [-0.41832852 -0.7931311   1.5157537  -1.0430712  -1.1374243   0.5520187\n",
            "   0.7173798   1.4979528  -1.1371711   0.9820113 ]\n",
            " [-0.71194607 -0.3884364   0.58515126  0.81611496  1.7196196   1.7504671\n",
            "   0.583624    2.277245   -0.74205846 -1.7953618 ]]\n",
            "y(5, 5): [[0.9354968  0.64119905 0.67578936 0.8507713  1.7602496 ]\n",
            " [1.0458283  1.2231627  0.3537705  1.452802   3.0004997 ]\n",
            " [2.0648487  2.1010242  2.5148742  1.6041312  1.6323761 ]\n",
            " [1.7105724  0.9130159  2.5929532  1.3298137  0.19700813]\n",
            " [4.9636736  2.5898318  4.5055637  2.3414736  3.7430444 ]]\n"
          ]
        }
      ]
    },
    {
      "cell_type": "code",
      "metadata": {
        "colab": {
          "base_uri": "https://localhost:8080/"
        },
        "id": "P0ZY3XET2gbV",
        "outputId": "81e5046c-851e-4d10-8368-3d5f1ddf935f"
      },
      "source": [
        "x = tf.random.normal([5, 10])\n",
        "y = neuron(x, tf.nn.tanh)\n",
        "\n",
        "print(f'x{x.shape}: {x}\\ny{y.shape}: {y}')"
      ],
      "execution_count": null,
      "outputs": [
        {
          "output_type": "stream",
          "name": "stdout",
          "text": [
            "x(5, 10): [[ 0.07352188 -0.17801778 -1.5274898   1.4426224  -0.5400917   0.4784706\n",
            "   0.2964961   0.05110181  2.0188332   0.7033976 ]\n",
            " [-1.0135344  -0.6335419   0.13696276  0.06775575 -2.1626666   0.55933887\n",
            "  -0.37383947  0.18338205 -0.709203    2.3372977 ]\n",
            " [ 0.87168115 -1.3600769   0.44507742  0.21898983  1.3688194   0.69216084\n",
            "  -1.9761117  -0.7824572   0.48224524  1.7846996 ]\n",
            " [ 0.7574195  -0.0962399   0.6306348   1.0086955   0.8501124   0.1933748\n",
            "   0.18139336  0.2087245  -1.6926159  -0.2560006 ]\n",
            " [-0.182309   -0.70867187 -0.5341219   0.733359    1.4462972  -2.1318994\n",
            "  -0.32827324 -0.59360725 -1.6054469   1.954386  ]]\n",
            "y(5, 5): [[ 0.7397012   0.96496874  0.91350335  0.9966955   0.98130375]\n",
            " [-0.96817505 -0.16390584 -0.65470004 -0.31884897 -0.78196824]\n",
            " [ 0.9195895   0.9864939   0.9706568   0.9015968   0.96372634]\n",
            " [ 0.9785205   0.96790457  0.9775506   0.9308279   0.996219  ]\n",
            " [-0.89076936  0.9771453  -0.6797234  -0.641332    0.8895085 ]]\n"
          ]
        }
      ]
    },
    {
      "cell_type": "code",
      "metadata": {
        "colab": {
          "base_uri": "https://localhost:8080/"
        },
        "id": "2D4bsZpn9ygx",
        "outputId": "9881bffa-159b-4595-b968-e14b8b3cbc9a"
      },
      "source": [
        "x = tf.random.normal([5, 10])\n",
        "y = neuron(x, tf.keras.layers.Activation('relu'))\n",
        "\n",
        "print(f'x{x.shape}: {x}\\ny{y.shape}: {y}')"
      ],
      "execution_count": null,
      "outputs": [
        {
          "output_type": "stream",
          "name": "stdout",
          "text": [
            "x(5, 10): [[-1.20492423e+00 -2.85868764e-01 -4.58595037e-01  3.60866547e-01\n",
            "  -1.04444838e+00 -7.95435011e-01  7.94142485e-01  4.00782049e-01\n",
            "   1.52888462e-01 -1.55105221e+00]\n",
            " [-9.11489308e-01  5.60014248e-01 -1.67966354e+00  1.73083395e-01\n",
            "   2.84769177e+00  5.67132950e-01  1.44666120e-01 -1.06065023e+00\n",
            "  -1.32579267e+00  1.00613117e+00]\n",
            " [-2.82706283e-02 -5.87987304e-01  1.11653388e+00  4.81906354e-01\n",
            "  -2.31487465e+00 -2.38776088e-01  6.78731024e-01  2.70465851e-01\n",
            "  -1.59972501e+00 -8.25981736e-01]\n",
            " [-1.24578394e-01  2.03755760e+00  5.40754378e-01  2.33016074e-01\n",
            "   2.02651024e-01 -6.16585433e-01  4.08460241e-04  8.69745612e-01\n",
            "   2.65421391e-01  1.24065268e+00]\n",
            " [-1.23158312e+00  2.30964112e+00  7.72161841e-01 -1.68948400e+00\n",
            "   1.70507228e+00  8.31856608e-01 -7.50104859e-02  3.36577237e-01\n",
            "  -2.33004913e-01  4.64114934e-01]]\n",
            "y(5, 5): [[0.0000000e+00 0.0000000e+00 0.0000000e+00 0.0000000e+00 0.0000000e+00]\n",
            " [2.4999085e-01 2.2953320e+00 0.0000000e+00 0.0000000e+00 3.2828856e+00]\n",
            " [0.0000000e+00 0.0000000e+00 0.0000000e+00 1.3718605e-03 0.0000000e+00]\n",
            " [1.4681895e+00 3.5223436e+00 3.6815546e+00 3.5211115e+00 3.0043812e+00]\n",
            " [1.8783245e+00 2.2525544e+00 3.2379074e+00 1.0037173e+00 2.0731406e+00]]\n"
          ]
        }
      ]
    },
    {
      "cell_type": "code",
      "metadata": {
        "colab": {
          "base_uri": "https://localhost:8080/"
        },
        "id": "mRlv8V6F91jV",
        "outputId": "32ecddf0-d045-4137-a65a-ce4a0bac4bc7"
      },
      "source": [
        "x = tf.random.normal([5, 10])\n",
        "y = neuron(x, tf.keras.layers.Activation('tanh'))\n",
        "\n",
        "print(f'x{x.shape}: {x}\\ny{y.shape}: {y}')"
      ],
      "execution_count": null,
      "outputs": [
        {
          "output_type": "stream",
          "name": "stdout",
          "text": [
            "x(5, 10): [[-0.12144709 -0.20225137 -0.34558368  0.7237741  -1.190312   -1.3696005\n",
            "  -0.2711623  -0.55203587  0.36398202  0.10413121]\n",
            " [ 0.50424224 -0.12625955  2.1152475   1.0864348   0.9863925   0.24017477\n",
            "  -0.8402184   0.906126   -1.585535   -1.5737014 ]\n",
            " [ 0.6108123  -0.51822054 -0.59363705 -0.80543256  0.42738983  0.9931647\n",
            "  -0.54450446 -0.82638144  0.21250504 -1.0388757 ]\n",
            " [ 0.37888914 -1.0266763  -0.73329586 -0.923808   -1.3205018  -1.2479551\n",
            "  -2.3855877  -1.113642    0.90508384  0.44948134]\n",
            " [-1.3054742  -0.5952794  -0.16951023 -0.30735594 -1.3884829  -0.8875894\n",
            "   1.4390807  -0.8910017   0.44704303  1.6245337 ]]\n",
            "y(5, 5): [[-0.970066   -0.5136996  -0.88153785  0.18960328 -0.7757744 ]\n",
            " [ 0.994114    0.9060816   0.9964021   0.94222176  0.97579086]\n",
            " [ 0.6468903  -0.6388054  -0.16076423 -0.39962482  0.13101384]\n",
            " [-0.99907047 -0.98093957 -0.9981728  -0.9785943  -0.99883115]\n",
            " [-0.96499044 -0.39801455 -0.7708089   0.12027856 -0.8838377 ]]\n"
          ]
        }
      ]
    },
    {
      "cell_type": "code",
      "metadata": {
        "id": "wVJ3vqAB-UKy"
      },
      "source": [
        "neurons = tf.keras.layers.Dense(5, activation='relu')"
      ],
      "execution_count": null,
      "outputs": []
    },
    {
      "cell_type": "code",
      "metadata": {
        "colab": {
          "base_uri": "https://localhost:8080/"
        },
        "id": "y0QpcG-X-YVJ",
        "outputId": "0c505761-42b3-462c-c7b4-54aa73f7bf01"
      },
      "source": [
        "x = tf.random.normal([5, 10])\n",
        "y = neurons(x)\n",
        "\n",
        "print(f'x{x.shape}: {x}\\ny{y.shape}: {y}')\n",
        "print('\\n\\nZmienne wewnętrzne:\\n', neurons.trainable_variables)"
      ],
      "execution_count": null,
      "outputs": [
        {
          "output_type": "stream",
          "name": "stdout",
          "text": [
            "x(5, 10): [[ 0.19806913  0.41822746 -0.03517076  0.14829554  1.411392   -0.01576062\n",
            "  -0.35175705  2.6479318  -0.91864187 -0.2811039 ]\n",
            " [-0.25678718 -0.6371326  -0.30656374 -0.6005666  -1.1478376   0.6282219\n",
            "   1.6911868   0.37611645  0.7791746  -0.6086583 ]\n",
            " [-0.739999   -1.0611597   0.55237836 -0.59673786  1.9084568  -0.789464\n",
            "  -0.09323902  0.47996357 -0.8995541  -2.2375312 ]\n",
            " [-1.6139172   0.55679256 -1.0760418  -1.4775062  -0.56755525 -1.4226738\n",
            "   1.0653116  -1.4257787   0.76242685 -0.94063365]\n",
            " [ 0.24614793  0.33652428 -1.5600464  -1.0311233  -0.61237055  1.209278\n",
            "  -1.8549131   0.6740514   0.02619214  0.07890181]]\n",
            "y(5, 5): [[1.8309160e+00 1.9456117e+00 0.0000000e+00 0.0000000e+00 0.0000000e+00]\n",
            " [8.8691664e-01 5.8575884e-02 1.5933295e+00 5.0063449e-01 0.0000000e+00]\n",
            " [1.0363089e+00 1.9236228e+00 0.0000000e+00 0.0000000e+00 1.3223660e+00]\n",
            " [1.8506342e-01 6.8802601e-01 1.1791310e+00 1.5580580e+00 3.1150212e+00]\n",
            " [3.3053958e-01 0.0000000e+00 0.0000000e+00 1.2258440e-03 0.0000000e+00]]\n",
            "\n",
            "\n",
            "Zmienne wewnętrzne:\n",
            " [<tf.Variable 'dense/kernel:0' shape=(10, 5) dtype=float32, numpy=\n",
            "array([[-0.35290223, -0.40929556,  0.11140031, -0.38841355, -0.50595033],\n",
            "       [ 0.35503578,  0.5209325 , -0.3234207 , -0.30528048, -0.01875031],\n",
            "       [-0.019225  ,  0.32683277, -0.04579496,  0.3693295 , -0.47923398],\n",
            "       [-0.14556748,  0.00541377, -0.26912108, -0.27009383, -0.35797903],\n",
            "       [-0.17090109,  0.28762066, -0.5108198 , -0.42757213,  0.24763364],\n",
            "       [ 0.2694525 , -0.24125525, -0.02156705,  0.03995371, -0.5485311 ],\n",
            "       [ 0.34825343,  0.513439  ,  0.5981937 , -0.3142874 ,  0.24536502],\n",
            "       [ 0.5616663 ,  0.4131543 , -0.35314426, -0.62777334, -0.46001726],\n",
            "       [-0.5969153 , -0.44357282,  0.09632999,  0.63134676, -0.37361765],\n",
            "       [-0.375628  , -0.3161584 ,  0.47066063,  0.13599342,  0.00844628]],\n",
            "      dtype=float32)>, <tf.Variable 'dense/bias:0' shape=(5,) dtype=float32, numpy=array([0., 0., 0., 0., 0.], dtype=float32)>]\n"
          ]
        }
      ]
    },
    {
      "cell_type": "code",
      "metadata": {
        "id": "LGHhoDCe4AZq"
      },
      "source": [
        "a = tf.constant([1, 2, 3])[tf.newaxis, :, tf.newaxis]\n",
        "f = tf.constant([1, 0, 1])[:, tf.newaxis, tf.newaxis]\n",
        "\n",
        "y = tf.nn.conv1d(a, f, 1, 'SAME')\n",
        "\n"
      ],
      "execution_count": null,
      "outputs": []
    },
    {
      "cell_type": "code",
      "metadata": {
        "id": "ju-hP5tu5YoZ"
      },
      "source": [
        "N = 10\n",
        "kernel_size = (5, 5)\n",
        "\n",
        "conv1 = tf.keras.layers.Conv2D(N, kernel_size, 1, 'same')"
      ],
      "execution_count": null,
      "outputs": []
    },
    {
      "cell_type": "code",
      "metadata": {
        "colab": {
          "base_uri": "https://localhost:8080/"
        },
        "id": "JTkHXsRj7Zdc",
        "outputId": "ed5b8ef6-d726-40d8-e898-553826747a06"
      },
      "source": [
        "images = tf.ones([1, 128, 128, 3], tf.float32)\n",
        "images_filtered = conv1(images)\n",
        "\n",
        "print(f'Rozmiar obrazów wejściowych: {images.shape}')\n",
        "print(f'Rozmiar przefiltrowanych obrazów: {images_filtered.shape}')"
      ],
      "execution_count": null,
      "outputs": [
        {
          "output_type": "stream",
          "name": "stdout",
          "text": [
            "Rozmiar obrazów wejściowych: (1, 128, 128, 3)\n",
            "Rozmiar przefiltrowanych obrazów: (1, 128, 128, 10)\n"
          ]
        }
      ]
    },
    {
      "cell_type": "code",
      "metadata": {
        "colab": {
          "base_uri": "https://localhost:8080/"
        },
        "id": "BCtyYQZw8Fkt",
        "outputId": "e8f1a82e-74c0-4b23-dc8b-ec6778ef4f79"
      },
      "source": [
        "f_max = tf.keras.layers.MaxPooling2D((2, 2), 2, 'same')\n",
        "f_ave = tf.keras.layers.AveragePooling2D((2, 2), 2, 'same')\n",
        "\n",
        "images_max = f_max(images_filtered)\n",
        "images_ave = f_ave(images_filtered)\n",
        "\n",
        "print(f'Rozmiar obrazów po max poolingu: {images_max.shape}')\n",
        "print(f'Rozmiar obrazów po average poolingu: {images_ave.shape}')"
      ],
      "execution_count": null,
      "outputs": [
        {
          "output_type": "stream",
          "name": "stdout",
          "text": [
            "Rozmiar obrazów po max poolingu: (1, 64, 64, 10)\n",
            "Rozmiar obrazów po average poolingu: (1, 64, 64, 10)\n"
          ]
        }
      ]
    },
    {
      "cell_type": "code",
      "metadata": {
        "id": "ooZ-AGp09Wh4"
      },
      "source": [
        "model = tf.keras.Sequential([\n",
        "  tf.keras.layers.Conv2D(8, (3, 3), 2, 'same'),\n",
        "  tf.keras.layers.Activation('relu'),\n",
        "  tf.keras.layers.Conv2D(16, (3, 3), 2, 'same'),\n",
        "  tf.keras.layers.Activation('relu'),\n",
        "  tf.keras.layers.Conv2D(32, (3, 3), 2, 'same'),\n",
        "  tf.keras.layers.Activation('relu'),\n",
        "  tf.keras.layers.Flatten(),\n",
        "  tf.keras.layers.Dense(10)\n",
        "])"
      ],
      "execution_count": null,
      "outputs": []
    },
    {
      "cell_type": "code",
      "metadata": {
        "colab": {
          "base_uri": "https://localhost:8080/"
        },
        "id": "ZiA0x2i3_AZf",
        "outputId": "9a76eac9-2868-4d4a-d976-79669208d208"
      },
      "source": [
        "images = tf.ones([1, 128, 128, 3], tf.float32)\n",
        "y = model(images)\n",
        "\n",
        "print(f'Rozmiar danych wejściowych: {images.shape}')\n",
        "print(f'Rozmiar danych wyjściowych: {y.shape}')"
      ],
      "execution_count": null,
      "outputs": [
        {
          "output_type": "stream",
          "name": "stdout",
          "text": [
            "Rozmiar danych wejściowych: (1, 128, 128, 3)\n",
            "Rozmiar danych wyjściowych: (1, 10)\n"
          ]
        }
      ]
    },
    {
      "cell_type": "code",
      "metadata": {
        "id": "4ga5w3kCAmrf"
      },
      "source": [
        "def preprocess(image, label):\n",
        "  return tf.cast(image, tf.float32)[..., tf.newaxis], label\n",
        "\n",
        "def mnist(batch_size=16):\n",
        "    train_ds, val_ds = tf.keras.datasets.mnist.load_data()\n",
        "\n",
        "    train_ds = tf.data.Dataset.from_tensor_slices(train_ds) \\\n",
        "        .map(preprocess, num_parallel_calls=8) \\\n",
        "        .shuffle(1024) \\\n",
        "        .batch(batch_size) \\\n",
        "        .prefetch(8)\n",
        "\n",
        "    val_ds = tf.data.Dataset.from_tensor_slices(val_ds) \\\n",
        "    .map(preprocess, num_parallel_calls=8) \\\n",
        "        .shuffle(1024) \\\n",
        "        .batch(batch_size) \\\n",
        "        .prefetch(8)\n",
        "\n",
        "    return train_ds, val_ds"
      ],
      "execution_count": null,
      "outputs": []
    },
    {
      "cell_type": "code",
      "metadata": {
        "colab": {
          "base_uri": "https://localhost:8080/"
        },
        "id": "P6W7GkKgBYg6",
        "outputId": "2bd07595-2e8a-4bb5-e995-5bd5910c0931"
      },
      "source": [
        "train_ds, val_ds = mnist(128)\n",
        "\n",
        "first_train_batch = next(iter(train_ds))\n",
        "images, labels = first_train_batch\n",
        "\n",
        "print(images.shape, labels.shape)"
      ],
      "execution_count": null,
      "outputs": [
        {
          "output_type": "stream",
          "name": "stdout",
          "text": [
            "Downloading data from https://storage.googleapis.com/tensorflow/tf-keras-datasets/mnist.npz\n",
            "11490434/11490434 [==============================] - 0s 0us/step\n",
            "(128, 28, 28, 1) (128,)\n"
          ]
        }
      ]
    },
    {
      "cell_type": "code",
      "source": [
        "labels\n",
        "len(train_ds)"
      ],
      "metadata": {
        "colab": {
          "base_uri": "https://localhost:8080/"
        },
        "id": "OGhZlKhHow5p",
        "outputId": "50a8e929-fae1-4f21-a520-bc22e77f502b"
      },
      "execution_count": null,
      "outputs": [
        {
          "output_type": "execute_result",
          "data": {
            "text/plain": [
              "469"
            ]
          },
          "metadata": {},
          "execution_count": 28
        }
      ]
    },
    {
      "cell_type": "code",
      "metadata": {
        "colab": {
          "base_uri": "https://localhost:8080/",
          "height": 129
        },
        "id": "uJbS2QgUBwro",
        "outputId": "52941a86-b37f-454d-cade-5a952de9dbad"
      },
      "source": [
        "imshow(images.numpy()[0])\n",
        "imshow(images.numpy()[1])\n",
        "imshow(images.numpy()[2])\n",
        "imshow(images.numpy()[3])"
      ],
      "execution_count": null,
      "outputs": [
        {
          "output_type": "display_data",
          "data": {
            "text/plain": [
              "<PIL.Image.Image image mode=RGB size=28x28 at 0x7F3FB36B7A90>"
            ],
            "image/png": "[encoded data removed]"
          },
          "metadata": {}
        },
        {
          "output_type": "display_data",
          "data": {
            "text/plain": [
              "<PIL.Image.Image image mode=RGB size=28x28 at 0x7F3FB3666680>"
            ],
            "image/png": "[encoded data removed]"
          },
          "metadata": {}
        },
        {
          "output_type": "display_data",
          "data": {
            "text/plain": [
              "<PIL.Image.Image image mode=RGB size=28x28 at 0x7F3FB36B7DC0>"
            ],
            "image/png": "[encoded data removed]"
          },
          "metadata": {}
        },
        {
          "output_type": "display_data",
          "data": {
            "text/plain": [
              "<PIL.Image.Image image mode=RGB size=28x28 at 0x7F3FB08D7550>"
            ],
            "image/png": "[encoded data removed]"
          },
          "metadata": {}
        }
      ]
    },
    {
      "cell_type": "code",
      "metadata": {
        "id": "g5oaN8RCCWqL"
      },
      "source": [
        "model = tf.keras.Sequential([\n",
        "  tf.keras.layers.Conv2D(8, (3, 3), 2, 'same'),\n",
        "  tf.keras.layers.Activation('relu'),\n",
        "  tf.keras.layers.Conv2D(16, (3, 3), 2, 'same'),\n",
        "  tf.keras.layers.Activation('relu'),\n",
        "  tf.keras.layers.Conv2D(32, (3, 3), 2, 'same'),\n",
        "  tf.keras.layers.Activation('relu'),\n",
        "  tf.keras.layers.Flatten(),\n",
        "  tf.keras.layers.Dense(10)\n",
        "])"
      ],
      "execution_count": null,
      "outputs": []
    },
    {
      "cell_type": "code",
      "metadata": {
        "colab": {
          "base_uri": "https://localhost:8080/"
        },
        "id": "NWDx8VmtCZKq",
        "outputId": "a52504f2-7d28-406b-81b3-e314a6112217"
      },
      "source": [
        "y = model(images)\n",
        "\n",
        "print(f'Rozmiar danych wejściowych: {images.shape}')\n",
        "print(f'Rozmiar danych wyjściowych: {y.shape}')"
      ],
      "execution_count": null,
      "outputs": [
        {
          "output_type": "stream",
          "name": "stdout",
          "text": [
            "Rozmiar danych wejściowych: (128, 28, 28, 1)\n",
            "Rozmiar danych wyjściowych: (128, 10)\n"
          ]
        }
      ]
    },
    {
      "cell_type": "code",
      "metadata": {
        "id": "Pg6k3kVWC31T"
      },
      "source": [
        "model.compile(optimizer='Adam', loss=tf.keras.losses.SparseCategoricalCrossentropy(True), metrics=['accuracy'])"
      ],
      "execution_count": null,
      "outputs": []
    },
    {
      "cell_type": "code",
      "metadata": {
        "colab": {
          "base_uri": "https://localhost:8080/"
        },
        "id": "vitHWCtFDOBh",
        "outputId": "991b60ba-3d6b-4b3f-ed83-20b5855dd9ef"
      },
      "source": [
        "model.fit(train_ds, epochs=3)\n",
        "model.evaluate(val_ds)"
      ],
      "execution_count": null,
      "outputs": [
        {
          "output_type": "stream",
          "name": "stdout",
          "text": [
            "Epoch 1/3\n",
            "469/469 [==============================] - 23s 40ms/step - loss: 0.6987 - accuracy: 0.8612\n",
            "Epoch 2/3\n",
            "469/469 [==============================] - 17s 36ms/step - loss: 0.1544 - accuracy: 0.9540\n",
            "Epoch 3/3\n",
            "469/469 [==============================] - 10s 22ms/step - loss: 0.1031 - accuracy: 0.9686\n",
            "79/79 [==============================] - 1s 9ms/step - loss: 0.1065 - accuracy: 0.9671\n"
          ]
        },
        {
          "output_type": "execute_result",
          "data": {
            "text/plain": [
              "[0.10645875334739685, 0.9671000242233276]"
            ]
          },
          "metadata": {},
          "execution_count": 33
        }
      ]
    },
    {
      "cell_type": "code",
      "source": [
        "len(train_ds)"
      ],
      "metadata": {
        "colab": {
          "base_uri": "https://localhost:8080/"
        },
        "id": "2eWBKaY-gEGi",
        "outputId": "358e2b0f-880b-4ed8-8b0f-4cb7f5664255"
      },
      "execution_count": null,
      "outputs": [
        {
          "output_type": "execute_result",
          "data": {
            "text/plain": [
              "469"
            ]
          },
          "metadata": {},
          "execution_count": 36
        }
      ]
    },
    {
      "cell_type": "code",
      "metadata": {
        "colab": {
          "base_uri": "https://localhost:8080/",
          "height": 328
        },
        "id": "QwTiXVA2EXSF",
        "outputId": "078a2d2f-0671-4537-bbb3-2748212ccd00"
      },
      "source": [
        "images, labels = next(iter(val_ds))\n",
        "\n",
        "predictions = model.predict(images)\n",
        "\n",
        "print(labels)\n",
        "print(tf.argmax(predictions, -1))\n",
        "\n",
        "imshow(images.numpy()[0])\n",
        "imshow(images.numpy()[1])\n",
        "imshow(images.numpy()[2])\n",
        "imshow(images.numpy()[3])"
      ],
      "execution_count": null,
      "outputs": [
        {
          "output_type": "stream",
          "name": "stdout",
          "text": [
            "4/4 [==============================] - 0s 4ms/step\n",
            "tf.Tensor(\n",
            "[1 5 8 9 1 0 1 7 5 3 2 8 3 4 6 5 8 6 1 7 2 5 3 1 7 0 1 3 3 1 4 4 8 4 1 1 5\n",
            " 5 4 2 2 0 3 1 8 4 7 4 3 4 9 1 4 1 1 2 4 9 2 2 8 2 2 4 7 5 7 2 1 7 1 1 0 1\n",
            " 8 8 5 4 6 5 8 2 1 8 6 8 3 2 1 9 0 2 8 7 3 1 8 1 1 7 0 2 9 5 4 2 3 9 5 2 8\n",
            " 4 3 6 0 7 7 6 0 1 2 3 8 9 8 4 0 8], shape=(128,), dtype=uint8)\n",
            "tf.Tensor(\n",
            "[1 5 8 9 1 0 1 7 5 3 2 8 3 4 6 5 8 6 1 7 2 5 3 1 7 0 1 5 3 1 4 4 8 4 1 1 5\n",
            " 5 4 2 2 0 3 1 8 4 1 4 3 4 9 1 4 1 1 2 4 9 2 2 8 2 2 4 7 5 7 2 1 7 1 1 0 1\n",
            " 8 5 5 4 6 5 8 2 1 8 6 8 3 2 1 9 0 2 8 7 3 1 8 1 1 7 0 2 9 5 4 2 3 9 5 2 8\n",
            " 9 3 0 0 7 7 6 0 1 2 3 8 9 8 4 0 8], shape=(128,), dtype=int64)\n"
          ]
        },
        {
          "output_type": "display_data",
          "data": {
            "text/plain": [
              "<PIL.Image.Image image mode=RGB size=28x28 at 0x7F3FB3293910>"
            ],
            "image/png": "[encoded data removed]"
          },
          "metadata": {}
        },
        {
          "output_type": "display_data",
          "data": {
            "text/plain": [
              "<PIL.Image.Image image mode=RGB size=28x28 at 0x7F3FB3291480>"
            ],
            "image/png": "[encoded data removed]"
          },
          "metadata": {}
        },
        {
          "output_type": "display_data",
          "data": {
            "text/plain": [
              "<PIL.Image.Image image mode=RGB size=28x28 at 0x7F3FB3748160>"
            ],
            "image/png": "[encoded data removed]"
          },
          "metadata": {}
        },
        {
          "output_type": "display_data",
          "data": {
            "text/plain": [
              "<PIL.Image.Image image mode=RGB size=28x28 at 0x7F3FB3293910>"
            ],
            "image/png": "[encoded data removed]"
          },
          "metadata": {}
        }
      ]
    },
    {
      "cell_type": "code",
      "source": [
        "predictions[0]"
      ],
      "metadata": {
        "colab": {
          "base_uri": "https://localhost:8080/"
        },
        "id": "Ky9kesDtpwHG",
        "outputId": "192ee8ff-e986-4b53-cc6e-0045488a7d1d"
      },
      "execution_count": null,
      "outputs": [
        {
          "output_type": "execute_result",
          "data": {
            "text/plain": [
              "array([-2.1935856 , 12.695169  ,  0.9610315 , -0.29464054,  2.177665  ,\n",
              "       -3.3495586 ,  0.18384278,  0.7165471 ,  2.3961031 ,  0.7072544 ],\n",
              "      dtype=float32)"
            ]
          },
          "metadata": {},
          "execution_count": 37
        }
      ]
    },
    {
      "cell_type": "code",
      "source": [],
      "metadata": {
        "id": "VGVLRbA1pxfG"
      },
      "execution_count": null,
      "outputs": []
    }
  ]
}